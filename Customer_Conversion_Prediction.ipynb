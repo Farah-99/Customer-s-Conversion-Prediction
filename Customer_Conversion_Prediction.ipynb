{
  "nbformat": 4,
  "nbformat_minor": 0,
  "metadata": {
    "colab": {
      "name": "Customer-Conversion- Prediction.ipynb",
      "provenance": [],
      "collapsed_sections": [
        "wGswTbWda5OD",
        "54T10kQNgeOY",
        "ClMGN2Mmh-JP",
        "YPSrPIhgiZ0v",
        "x0mUY8zYk3J6",
        "7jvNAWeMmABV",
        "T85QcUbxnfZp",
        "sLW7r5jXomPm",
        "SU3uvgqFoaeP"
      ]
    },
    "kernelspec": {
      "name": "python3",
      "display_name": "Python 3"
    },
    "language_info": {
      "name": "python"
    }
  },
  "cells": [
    {
      "cell_type": "markdown",
      "source": [
        "# <font color='blue'>Customer's Conversion Prediction: </font> \n",
        "I Got the best results by using XGBoost with 96% accuracy; top 1 in Kaggle\n",
        "---\n",
        " \n",
        "* **Part 1 - Data Preprocessing**\n",
        "   1. Importing libraries\n",
        "   2. Importing the dataset\n",
        "   3. Dataset information (Pandas Profiling)\n",
        "   4. Dropping unnecessary columns\n",
        "      - \"Train\" set\n",
        "      - \"Test\" set\n",
        "   5. Taking care of misssing data for \"Train\" and \"Test\" Data\n",
        "      - 'Administrative'          \n",
        "      - 'Administrative_Duration'\n",
        "      - 'Informational'\n",
        "      - 'Informational_Duration' \n",
        "      - 'ProductRelated' \n",
        "      - 'ProductRelated_Duration'\n",
        "      - 'BounceRates'\n",
        "      - 'ExitRates'\n",
        "   6. Taking care of some outliers\n",
        "   7. Encoding categorical data\n",
        "      - 'Month'        \n",
        "      - 'VisitorType'\n",
        "      - 'Weekend'\n",
        "      - 'OperatingSystems'\n",
        "      - 'Browser'\n",
        "      - 'Region\n",
        "      - 'TrafficType'\n",
        "   8. Spliting the Train & Test datasets\n",
        "   9. Feature Scaling   \n",
        "* **Part 2 - Training the Classification model**\n",
        "   1. XGBoost\n",
        "   2. Other algorithms\n",
        "   3. Accuracy score  \n",
        "* **Part 3 - Creating a submission.csv**"
      ],
      "metadata": {
        "id": "D-YrTwBkcofn"
      }
    },
    {
      "cell_type": "markdown",
      "source": [
        "#**Data Preprocessing**"
      ],
      "metadata": {
        "id": "JLpvKld2apeb"
      }
    },
    {
      "cell_type": "markdown",
      "source": [
        "## **Importing libraries**"
      ],
      "metadata": {
        "id": "wGswTbWda5OD"
      }
    },
    {
      "cell_type": "code",
      "execution_count": 2,
      "metadata": {
        "id": "G83r51O7aQm0"
      },
      "outputs": [],
      "source": [
        "import numpy as np\n",
        "import matplotlib.pyplot as plt\n",
        "import pandas as pd\n",
        "import seaborn as sns\n",
        "sns.set()\n",
        "%matplotlib inline"
      ]
    },
    {
      "cell_type": "markdown",
      "source": [
        "## **Importing the dataset**\n"
      ],
      "metadata": {
        "id": "3RfD-lnQgG5k"
      }
    },
    {
      "cell_type": "code",
      "source": [
        "!unzip dataset-customer.zip"
      ],
      "metadata": {
        "colab": {
          "base_uri": "https://localhost:8080/"
        },
        "id": "cRncECgVgTZO",
        "outputId": "adcdedd6-65ad-4f11-c980-30ad4b0259ea"
      },
      "execution_count": 3,
      "outputs": [
        {
          "output_type": "stream",
          "name": "stdout",
          "text": [
            "Archive:  dataset-customer.zip\n",
            "  inflating: Test (1).csv            \n",
            "  inflating: Train (1).csv           \n",
            "  inflating: sample.csv              \n"
          ]
        }
      ]
    },
    {
      "cell_type": "code",
      "source": [
        "#renale file to Train.csv and Test.csv\n",
        "train = pd.read_csv('Train.csv')\n",
        "test = pd.read_csv('Test.csv')"
      ],
      "metadata": {
        "id": "N8AoGTRdgYxI"
      },
      "execution_count": 5,
      "outputs": []
    },
    {
      "cell_type": "code",
      "source": [
        "train"
      ],
      "metadata": {
        "id": "dsFteytSgbb_"
      },
      "execution_count": null,
      "outputs": []
    },
    {
      "cell_type": "code",
      "source": [
        "test"
      ],
      "metadata": {
        "id": "Pv5MmELygcNp"
      },
      "execution_count": null,
      "outputs": []
    },
    {
      "cell_type": "markdown",
      "source": [
        "## **Dataset information**"
      ],
      "metadata": {
        "id": "54T10kQNgeOY"
      }
    },
    {
      "cell_type": "code",
      "source": [
        "train.info()"
      ],
      "metadata": {
        "colab": {
          "base_uri": "https://localhost:8080/"
        },
        "id": "6zNZeS7FgnbD",
        "outputId": "bdf1a660-51ca-4764-8aa1-eb47d542234e"
      },
      "execution_count": 6,
      "outputs": [
        {
          "output_type": "stream",
          "name": "stdout",
          "text": [
            "<class 'pandas.core.frame.DataFrame'>\n",
            "RangeIndex: 8731 entries, 0 to 8730\n",
            "Data columns (total 19 columns):\n",
            " #   Column                   Non-Null Count  Dtype  \n",
            "---  ------                   --------------  -----  \n",
            " 0   id                       8731 non-null   int64  \n",
            " 1   Administrative           8717 non-null   float64\n",
            " 2   Administrative_Duration  8717 non-null   float64\n",
            " 3   Informational            8717 non-null   float64\n",
            " 4   Informational_Duration   8717 non-null   float64\n",
            " 5   ProductRelated           8717 non-null   float64\n",
            " 6   ProductRelated_Duration  8717 non-null   float64\n",
            " 7   BounceRates              8717 non-null   float64\n",
            " 8   ExitRates                8717 non-null   float64\n",
            " 9   PageValues               8731 non-null   float64\n",
            " 10  SpecialDay               8731 non-null   float64\n",
            " 11  Month                    8731 non-null   object \n",
            " 12  OperatingSystems         8731 non-null   int64  \n",
            " 13  Browser                  8731 non-null   int64  \n",
            " 14  Region                   8731 non-null   int64  \n",
            " 15  TrafficType              8731 non-null   int64  \n",
            " 16  VisitorType              8731 non-null   object \n",
            " 17  Weekend                  8731 non-null   bool   \n",
            " 18  Revenue                  8731 non-null   bool   \n",
            "dtypes: bool(2), float64(10), int64(5), object(2)\n",
            "memory usage: 1.1+ MB\n"
          ]
        }
      ]
    },
    {
      "cell_type": "code",
      "source": [
        "train.isna()"
      ],
      "metadata": {
        "id": "XERcgLUQguKo"
      },
      "execution_count": null,
      "outputs": []
    },
    {
      "cell_type": "code",
      "source": [
        "train.isna().sum()"
      ],
      "metadata": {
        "id": "K0GyE3yRgvxA"
      },
      "execution_count": null,
      "outputs": []
    },
    {
      "cell_type": "code",
      "source": [
        "train.isna().sum().sum()"
      ],
      "metadata": {
        "id": "4W4eicHogyMt"
      },
      "execution_count": null,
      "outputs": []
    },
    {
      "cell_type": "code",
      "source": [
        "train.describe()"
      ],
      "metadata": {
        "id": "SeyV1qq0g3BM"
      },
      "execution_count": null,
      "outputs": []
    },
    {
      "cell_type": "code",
      "source": [
        "train.corr()"
      ],
      "metadata": {
        "id": "Fy8HjZ-3hBhN"
      },
      "execution_count": null,
      "outputs": []
    },
    {
      "cell_type": "markdown",
      "source": [
        "## **Dropping unnecessary columns**"
      ],
      "metadata": {
        "id": "ClMGN2Mmh-JP"
      }
    },
    {
      "cell_type": "code",
      "source": [
        "#Browser, Operating Systems, Weekend and Regin are the features that has the least corrolation with Revenue\n",
        "#Operating Systems and Region shows a very tiny corrolationn with the revenue\n",
        "#I dropped Browser but when I found better results with it\n",
        "#When I dropped Weekend I got better results"
      ],
      "metadata": {
        "id": "-lej8A8ajAML"
      },
      "execution_count": null,
      "outputs": []
    },
    {
      "cell_type": "code",
      "source": [
        "train = train.drop(columns=['id', 'OperatingSystems', 'Weekend', 'Region'])"
      ],
      "metadata": {
        "id": "seuFFCZKjo02"
      },
      "execution_count": 7,
      "outputs": []
    },
    {
      "cell_type": "code",
      "source": [
        "test = test.drop(columns=['OperatingSystems', 'Region','Weekend'])"
      ],
      "metadata": {
        "id": "dEKj6_w6ifJ6"
      },
      "execution_count": 8,
      "outputs": []
    },
    {
      "cell_type": "code",
      "source": [
        "#dropping duplicated lines\n",
        "if train.duplicated().sum() >0:\n",
        "  train.drop_duplicates(inplace=True).reset_index()"
      ],
      "metadata": {
        "id": "kF79zPFNlU5e"
      },
      "execution_count": 10,
      "outputs": []
    },
    {
      "cell_type": "markdown",
      "source": [
        "## **Taking care of misssing data**"
      ],
      "metadata": {
        "id": "YPSrPIhgiZ0v"
      }
    },
    {
      "cell_type": "code",
      "source": [
        "#train dataset\n",
        "std0 = train[\"Administrative_Duration\"].std()\n",
        "mean0 = train['Administrative'].mean()\n",
        "std1 = train[\"Informational_Duration\"].std()\n",
        "mean1 = train['Informational'].mean()\n",
        "std2 = train[\"ProductRelated_Duration\"].std()\n",
        "mean2 = train['ProductRelated'].mean()\n",
        "exit = train['ExitRates'].mean()\n",
        "bounce = train['BounceRates'].max()\n",
        "train = train.fillna({\n",
        "'Administrative' :  mean0,         \n",
        "'Administrative_Duration': std0,   \n",
        "'Informational'          :   mean1,\n",
        "'Informational_Duration'  : std1, \n",
        "'ProductRelated'           : mean2,\n",
        "'ProductRelated_Duration'   : std1,\n",
        "'BounceRates'                : bounce,\n",
        "'ExitRates'                 : exit\n",
        "})"
      ],
      "metadata": {
        "id": "AKklVdk8isLc"
      },
      "execution_count": 11,
      "outputs": []
    },
    {
      "cell_type": "code",
      "source": [
        "#test dataset\n",
        "std0 = test[\"Administrative_Duration\"].std()\n",
        "mean0 = test['Administrative'].mean()\n",
        "std1 = test[\"Informational_Duration\"].std()\n",
        "mean1 = test['Informational'].mean()\n",
        "std2 = test[\"ProductRelated_Duration\"].std()\n",
        "mean2 = test['ProductRelated'].mean()\n",
        "exit = test['ExitRates'].mean()\n",
        "bounce = test['BounceRates'].max()\n",
        "test = test.fillna({\n",
        "   'Administrative' :  mean0,         \n",
        "'Administrative_Duration': std0,   \n",
        "'Informational'          :   mean1,\n",
        "'Informational_Duration'  : std1, \n",
        "'ProductRelated'           : mean2,\n",
        "'ProductRelated_Duration'   : std1,\n",
        "'BounceRates'                : bounce,\n",
        "'ExitRates'                 : exit\n",
        "})\n"
      ],
      "metadata": {
        "id": "oMECSvCCloqu"
      },
      "execution_count": 12,
      "outputs": []
    },
    {
      "cell_type": "markdown",
      "source": [
        "## **Taking care of some outliers**"
      ],
      "metadata": {
        "id": "MikcO_VrnEQQ"
      }
    },
    {
      "cell_type": "code",
      "source": [
        "#I plotted it to see the outliers"
      ],
      "metadata": {
        "id": "Dz30H69GnV06"
      },
      "execution_count": null,
      "outputs": []
    },
    {
      "cell_type": "code",
      "source": [
        "train = train[ train['Informational'] < 20]"
      ],
      "metadata": {
        "id": "GuKSUkIRnP8W"
      },
      "execution_count": 13,
      "outputs": []
    },
    {
      "cell_type": "code",
      "source": [
        "train = train[ train['Administrative'] < 25]"
      ],
      "metadata": {
        "id": "cT484rVenSuu"
      },
      "execution_count": 14,
      "outputs": []
    },
    {
      "cell_type": "markdown",
      "source": [
        "## **Encoding categorical data**"
      ],
      "metadata": {
        "id": "x0mUY8zYk3J6"
      }
    },
    {
      "cell_type": "code",
      "source": [
        "# Check unique values for each categorical column\n",
        "cat_cols = ['Month',\t'VisitorType', 'Browser',  'TrafficType'\t]\n",
        "for col in cat_cols:\n",
        "  print(col)\n",
        "  print(train[col].unique(), '\\n')"
      ],
      "metadata": {
        "colab": {
          "base_uri": "https://localhost:8080/"
        },
        "id": "KIr7vByhk5WV",
        "outputId": "5d943e78-1ea9-460d-bfc4-fd6141af2ca8"
      },
      "execution_count": 19,
      "outputs": [
        {
          "output_type": "stream",
          "name": "stdout",
          "text": [
            "Month\n",
            "['Feb' 'Mar' 'May' 'Oct' 'June' 'Jul' 'Aug' 'Nov' 'Sep' 'Dec'] \n",
            "\n",
            "VisitorType\n",
            "['Returning_Visitor' 'New_Visitor' 'Other'] \n",
            "\n",
            "Browser\n",
            "[ 1  2  3  4  5  6  7 10  8  9 12 13 11] \n",
            "\n",
            "TrafficType\n",
            "[ 1  2  3  4  5  6  7  8  9 10 11 12 13 14 15 18 19 16 17 20] \n",
            "\n"
          ]
        }
      ]
    },
    {
      "cell_type": "code",
      "source": [
        "train['Revenue'] = train['Revenue'].map({\n",
        "     False : 0,\n",
        "      True :1\n",
        "      })"
      ],
      "metadata": {
        "id": "ASL5_ygllCXR"
      },
      "execution_count": 20,
      "outputs": []
    },
    {
      "cell_type": "code",
      "source": [
        "# I did that before dropping weekend\n",
        "\"\"\"\n",
        "train['Weekend'] = train['Weekend'].map({ \n",
        "    False : 0,  \n",
        "    True :1\n",
        "    })\n",
        "test['Weekend'] = test['Weekend'].map({ \n",
        "    False : 0,  \n",
        "    True :1\n",
        "    })\"\"\""
      ],
      "metadata": {
        "id": "kJKf6jyglHI7"
      },
      "execution_count": null,
      "outputs": []
    },
    {
      "cell_type": "code",
      "source": [
        "train = pd.get_dummies(train)"
      ],
      "metadata": {
        "id": "aH_TbMN7lTOu"
      },
      "execution_count": 21,
      "outputs": []
    },
    {
      "cell_type": "code",
      "source": [
        "X_test = pd.get_dummies(test)"
      ],
      "metadata": {
        "id": "dkgTXT9omOID"
      },
      "execution_count": 22,
      "outputs": []
    },
    {
      "cell_type": "markdown",
      "source": [
        "## **Spliting the Train & Test datasets**"
      ],
      "metadata": {
        "id": "7jvNAWeMmABV"
      }
    },
    {
      "cell_type": "code",
      "source": [
        "X_train = train.drop('Revenue', axis=1)\n",
        "Y_train = train['Revenue']"
      ],
      "metadata": {
        "id": "_seGEuxmmL9D"
      },
      "execution_count": 23,
      "outputs": []
    },
    {
      "cell_type": "code",
      "source": [
        "#the test dataset contains only November and December months so we need to add it\n",
        "for c1 in ['Month_Aug', 'Month_Feb',\t'Month_Jul',\t'Month_June',\t'Month_Mar',\t'Month_May',\t'Month_Oct',\t'Month_Sep']:\n",
        "    X_test[c1] = 0"
      ],
      "metadata": {
        "id": "TB6-YWt2l_iU"
      },
      "execution_count": 24,
      "outputs": []
    },
    {
      "cell_type": "code",
      "source": [
        "#Sorting the test and the train dataset in the same order\n",
        "X_test = X_test.reindex(columns=sorted(X_train.columns))\n",
        "X_train = X_train.reindex(columns=sorted(X_train.columns))"
      ],
      "metadata": {
        "id": "aq6yx2Asmhu0"
      },
      "execution_count": 25,
      "outputs": []
    },
    {
      "cell_type": "markdown",
      "source": [
        "## **Feature Scaling**"
      ],
      "metadata": {
        "id": "T85QcUbxnfZp"
      }
    },
    {
      "cell_type": "code",
      "source": [
        "from sklearn.preprocessing import StandardScaler\n",
        "sc = StandardScaler()\n",
        "X_train = sc.fit_transform(X_train)\n",
        "X_test = sc.transform(X_test)"
      ],
      "metadata": {
        "id": "uvUTaWEBngfU"
      },
      "execution_count": 26,
      "outputs": []
    },
    {
      "cell_type": "markdown",
      "source": [
        "# **Training the Classification model**"
      ],
      "metadata": {
        "id": "bHRF6kBZnqpI"
      }
    },
    {
      "cell_type": "markdown",
      "source": [
        "##**XGBoost**"
      ],
      "metadata": {
        "id": "ddRdAdLbn0kI"
      }
    },
    {
      "cell_type": "code",
      "source": [
        "from xgboost import XGBClassifier\n",
        "classifier = XGBClassifier(max_depth=6)\n",
        "classifier.fit(X_train, Y_train)"
      ],
      "metadata": {
        "colab": {
          "base_uri": "https://localhost:8080/"
        },
        "id": "mWYntyC2n-M4",
        "outputId": "4e15cd2b-93e7-4027-eeb9-bb004717001a"
      },
      "execution_count": 27,
      "outputs": [
        {
          "output_type": "execute_result",
          "data": {
            "text/plain": [
              "XGBClassifier(max_depth=6)"
            ]
          },
          "metadata": {},
          "execution_count": 27
        }
      ]
    },
    {
      "cell_type": "code",
      "source": [
        "y_preds = classifier.predict(X_test)\n",
        "test['Revenue'] = y_preds"
      ],
      "metadata": {
        "id": "54nofUfWoBsx"
      },
      "execution_count": 28,
      "outputs": []
    },
    {
      "cell_type": "code",
      "source": [
        "submission = pd.DataFrame({\n",
        "        \"id\": test[\"id\"],\n",
        "        \"Revenue\": y_preds\n",
        "    })"
      ],
      "metadata": {
        "id": "bJdH4OlToH9z"
      },
      "execution_count": 29,
      "outputs": []
    },
    {
      "cell_type": "markdown",
      "source": [
        "## **Other Algorithms**"
      ],
      "metadata": {
        "id": "sLW7r5jXomPm"
      }
    },
    {
      "cell_type": "code",
      "source": [
        "\"\"\"from sklearn.neighbors import KNeighborsClassifier\n",
        "classifier = KNeighborsClassifier(n_neighbors = 5, metric = 'minkowski', p = 2)\n",
        "classifier.fit(X_train, Y_train)\"\"\"\n",
        "\"\"\"from sklearn.ensemble import GradientBoostingClassifier\n",
        "classifier = GradientBoostingClassifier()\n",
        "classifier.fit(X_train, Y_train)\"\"\"\n",
        "\"\"\"from sklearn.ensemble import RandomForestClassifier\n",
        "classifier = RandomForestClassifier(n_estimators = 10, criterion = 'entropy', random_state = 0)\n",
        "classifier.fit(X_train, Y_train)\"\"\"\n",
        "\"\"\"from sklearn.svm import SVC\n",
        "classifier = SVC(kernel = 'rbf', random_state = 0)\n",
        "classifier.fit(X_train, Y_train)\n",
        "Y_pred = classifier.predict(X_test)\"\"\"\n",
        "\"\"\"from sklearn.tree import DecisionTreeClassifier\n",
        "classifier = DecisionTreeClassifier(criterion = 'entropy', random_state = 42)\n",
        "classifier.fit(X_train, Y_train)\"\"\""
      ],
      "metadata": {
        "id": "gNcXuhRfoulO"
      },
      "execution_count": null,
      "outputs": []
    },
    {
      "cell_type": "markdown",
      "source": [
        "## **Accuracy score**"
      ],
      "metadata": {
        "id": "SU3uvgqFoaeP"
      }
    },
    {
      "cell_type": "code",
      "source": [
        "from sklearn.metrics import accuracy_score\n",
        "classifier.score(X_train, Y_train)\n",
        "classifier = round(classifier.score(X_train, Y_train) * 100, 2)\n",
        "classifier"
      ],
      "metadata": {
        "colab": {
          "base_uri": "https://localhost:8080/"
        },
        "id": "FEl450RvoE91",
        "outputId": "4645865c-7163-45a5-e357-1a7aa0e68d22"
      },
      "execution_count": 30,
      "outputs": [
        {
          "output_type": "execute_result",
          "data": {
            "text/plain": [
              "96.36"
            ]
          },
          "metadata": {},
          "execution_count": 30
        }
      ]
    },
    {
      "cell_type": "markdown",
      "source": [
        "# **Creating a submission.csv**"
      ],
      "metadata": {
        "id": "WCmI1mN8oRFz"
      }
    },
    {
      "cell_type": "code",
      "source": [
        "submission.to_csv('solution.csv', index=False)"
      ],
      "metadata": {
        "id": "3hzVviiNoM5T"
      },
      "execution_count": 31,
      "outputs": []
    }
  ]
}